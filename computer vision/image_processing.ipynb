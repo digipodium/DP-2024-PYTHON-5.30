{
 "cells": [
  {
   "cell_type": "code",
   "execution_count": 2,
   "metadata": {},
   "outputs": [],
   "source": [
    "import cv2"
   ]
  },
  {
   "cell_type": "code",
   "execution_count": 3,
   "metadata": {},
   "outputs": [],
   "source": [
    "image = cv2.imread(r\"C:\\Users\\LENOVO\\Documents\\DP-2024-PYTHON-5.30\\img.jpg\")\n",
    "if image is not None:\n",
    "    cv2.imshow(\"Image\", image)\n",
    "    cv2.waitKey(0) # waitkey is used to wait for a key to press to close the window, 0 means wait indefinitely\n",
    "    cv2.destroyAllWindows()\n",
    "else:\n",
    "    print(\"Image not found\")"
   ]
  },
  {
   "cell_type": "code",
   "execution_count": 4,
   "metadata": {},
   "outputs": [],
   "source": [
    "gray_image = cv2.cvtColor(image, cv2.COLOR_BGR2GRAY)\n",
    "cv2.imshow(\"Gray Image\", gray_image)\n",
    "cv2.waitKey(0)\n",
    "cv2.destroyAllWindows()"
   ]
  },
  {
   "cell_type": "code",
   "execution_count": 5,
   "metadata": {},
   "outputs": [],
   "source": [
    "blurred_image = cv2.GaussianBlur(image, (15,15),0)\n",
    "cv2.imshow(\"Blurred Image\", blurred_image)\n",
    "cv2.waitKey(0)\n",
    "cv2.destroyAllWindows()"
   ]
  },
  {
   "cell_type": "code",
   "execution_count": 6,
   "metadata": {},
   "outputs": [],
   "source": [
    "edges = cv2.Canny(gray_image, 100, 200)\n",
    "cv2.imshow(\"Edges\", edges)\n",
    "cv2.waitKey(0)\n",
    "cv2.destroyAllWindows()"
   ]
  },
  {
   "cell_type": "code",
   "execution_count": 10,
   "metadata": {},
   "outputs": [
    {
     "name": "stdout",
     "output_type": "stream",
     "text": [
      "(1125, 2000, 3)\n"
     ]
    }
   ],
   "source": [
    "image = cv2.imread(r\"C:\\Users\\LENOVO\\Documents\\DP-2024-PYTHON-5.30\\img.jpg\")\n",
    "print(image.shape)\n",
    "\n",
    "#resize image\n",
    "resized_image = cv2.resize(image, (500,300))\n",
    "\n",
    "#cropped image\n",
    "cropped_image = image[50:200, 200:500]\n",
    "\n",
    "cv2.imshow(\"Resized Image\", resized_image)\n",
    "cv2.imshow(\"Cropped Image\", cropped_image)\n",
    "cv2.waitKey(0)\n",
    "cv2.destroyAllWindows()"
   ]
  },
  {
   "cell_type": "code",
   "execution_count": 11,
   "metadata": {},
   "outputs": [],
   "source": [
    "drawing = image.copy()\n",
    "cv2.rectangle(drawing, (50,50), (200,200),(0,255,0), 2)#(image, start_point, end_point, color, thickness)\n",
    "cv2.imshow(\"Rectangle\", drawing)\n",
    "cv2.waitKey(0)\n",
    "cv2.destroyAllWindows()"
   ]
  },
  {
   "cell_type": "code",
   "execution_count": null,
   "metadata": {},
   "outputs": [],
   "source": []
  }
 ],
 "metadata": {
  "kernelspec": {
   "display_name": "base",
   "language": "python",
   "name": "python3"
  },
  "language_info": {
   "codemirror_mode": {
    "name": "ipython",
    "version": 3
   },
   "file_extension": ".py",
   "mimetype": "text/x-python",
   "name": "python",
   "nbconvert_exporter": "python",
   "pygments_lexer": "ipython3",
   "version": "3.12.9"
  }
 },
 "nbformat": 4,
 "nbformat_minor": 2
}
